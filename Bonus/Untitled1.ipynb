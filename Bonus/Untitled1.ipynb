{
 "cells": [
  {
   "cell_type": "code",
   "execution_count": null,
   "metadata": {
    "collapsed": true
   },
   "outputs": [],
   "source": [
    "import matplotlib.pyplot as plt\n",
    "from matplotlib import colors\n",
    "import numpy as np\n",
    "from random import randint\n",
    "\n",
    "# x and y coordinates\n",
    "x = [0.001,0.01,0.1,1,10,100]\n",
    "y = [0.001,0.01,0.1,1,10,100]\n",
    "data = np.array(scores.T[2]).reshape(6,6)\n",
    "\n",
    "# Generate some discrete data (1, 2 or 3) for each (x, y) pair\n",
    "for i,yy in enumerate(y):\n",
    "    for j, xx in enumerate(x):\n",
    "        data[i,j] = randint(1,3)\n",
    "\n",
    "# Map 1, 2 and 3 to 'Red', 'Green' qnd 'Blue', respectively\n",
    "colormap = colors.ListedColormap(['Red', 'Green', 'Blue'])\n",
    "colorbar_ticklabels = ['1', '2', '3']\n",
    "\n",
    "# Use matshow to create a heatmap\n",
    "fig, ax = plt.subplots()\n",
    "ms = ax.matshow(data, cmap = colormap, vmin=data.min() - 0.5, vmax=data.max() + 0.5, origin = 'lower')\n",
    "\n",
    "# x and y axis ticks\n",
    "ax.set_xticklabels([str(xx) for xx in x])\n",
    "ax.set_yticklabels([str(yy) for yy in y])\n",
    "ax.xaxis.tick_bottom()\n",
    "\n",
    "# Put the x- qnd y-axis ticks at the middle of each cell \n",
    "ax.set_xticks(np.arange(data.shape[1]), minor = False)\n",
    "ax.set_yticks(np.arange(data.shape[0]), minor = False)\n",
    "\n",
    "# Set custom ticks and ticklabels for color bar\n",
    "cbar = fig.colorbar(ms,ticks = np.arange(np.min(data),np.max(data)+1))\n",
    "cbar.ax.set_yticklabels(colorbar_ticklabels)\n",
    "\n",
    "plt.show()"
   ]
  }
 ],
 "metadata": {
  "kernelspec": {
   "display_name": "Python 3",
   "language": "python",
   "name": "python3"
  },
  "language_info": {
   "codemirror_mode": {
    "name": "ipython",
    "version": 3
   },
   "file_extension": ".py",
   "mimetype": "text/x-python",
   "name": "python",
   "nbconvert_exporter": "python",
   "pygments_lexer": "ipython3",
   "version": "3.6.2"
  }
 },
 "nbformat": 4,
 "nbformat_minor": 2
}
